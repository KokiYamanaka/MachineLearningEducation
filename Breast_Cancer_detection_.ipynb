{
  "nbformat": 4,
  "nbformat_minor": 0,
  "metadata": {
    "colab": {
      "name": "Breast_Cancer_detection .ipynb",
      "provenance": [],
      "authorship_tag": "ABX9TyNQV4ey2uRNxvXqkF2TEEiP",
      "include_colab_link": true
    },
    "kernelspec": {
      "name": "python3",
      "display_name": "Python 3"
    },
    "language_info": {
      "name": "python"
    }
  },
  "cells": [
    {
      "cell_type": "markdown",
      "metadata": {
        "id": "view-in-github",
        "colab_type": "text"
      },
      "source": [
        "<a href=\"https://colab.research.google.com/github/KokiYamanaka/MachineLearningEducation/blob/main/Breast_Cancer_detection_.ipynb\" target=\"_parent\"><img src=\"https://colab.research.google.com/assets/colab-badge.svg\" alt=\"Open In Colab\"/></a>"
      ]
    },
    {
      "cell_type": "markdown",
      "source": [
        "Let's complete this !"
      ],
      "metadata": {
        "id": "BJX9dDKgBIhx"
      }
    },
    {
      "cell_type": "markdown",
      "source": [
        "# Data preprocessing \n"
      ],
      "metadata": {
        "id": "ZKIKt8r2_gPa"
      }
    },
    {
      "cell_type": "code",
      "execution_count": 34,
      "metadata": {
        "id": "a2sjWR6r-jtN"
      },
      "outputs": [],
      "source": [
        "# malignant M = bad\n",
        "import pandas as pd\n",
        "import matplotlib.pyplot as plt\n",
        "import seaborn as sns\n",
        "\n",
        "dataset = pd.read_csv('data.csv')\n",
        "dataset.head() \n",
        "X = dataset.iloc[:,2:10].values # produce 1.799e+01 is not error # includes all X feature\n",
        "y = dataset.iloc[:,1].values"
      ]
    },
    {
      "cell_type": "markdown",
      "source": [
        "  \n",
        "# Variable selection \n",
        "Focus : what feature to choose ? or use all feature \n"
      ],
      "metadata": {
        "id": "kJUJ_3CpAxLq"
      }
    },
    {
      "cell_type": "code",
      "source": [
        "breastcancerData_x = dataset.loc[:,'radius_mean':'fractal_dimension_worst']\n",
        "breastcancerData_x"
      ],
      "metadata": {
        "id": "ZAUUcreRD9Xy"
      },
      "execution_count": null,
      "outputs": []
    },
    {
      "cell_type": "code",
      "source": [
        "corr =  breastcancerData_x.corr()# drop predict dependent feature (water temperature) & Compute the correlation matrix "
      ],
      "metadata": {
        "id": "TB0q6bEqAwrk"
      },
      "execution_count": 31,
      "outputs": []
    },
    {
      "cell_type": "markdown",
      "source": [
        "# Split Data & Feature Scaling "
      ],
      "metadata": {
        "id": "FMYgRVH2FOhY"
      }
    },
    {
      "cell_type": "code",
      "source": [
        "from sklearn.model_selection import train_test_split\n",
        "X_train, X_test, y_train, y_test = train_test_split(X, y, test_size = 0.2, random_state = 1)\n",
        "\n",
        "from sklearn.preprocessing import StandardScaler\n",
        "sc = StandardScaler()\n",
        "X_train = sc.fit_transform(X_train)\n",
        "X_test  = sc.transform(X_test)"
      ],
      "metadata": {
        "id": "zgINSef5FSZP"
      },
      "execution_count": 35,
      "outputs": []
    },
    {
      "cell_type": "markdown",
      "source": [
        "# Training model on train set"
      ],
      "metadata": {
        "id": "Nra3MJ6OGTll"
      }
    },
    {
      "cell_type": "code",
      "source": [
        "from sklearn.linear_model import LogisticRegression\n",
        "lr = LogisticRegression(random_state = 0) # create LR object\n",
        "lr.fit(X_train, y_train) # train data sets "
      ],
      "metadata": {
        "colab": {
          "base_uri": "https://localhost:8080/"
        },
        "id": "7U0SdDnNGcdb",
        "outputId": "82d9e324-aff0-4312-f32f-0a3326e1ce2e"
      },
      "execution_count": 39,
      "outputs": [
        {
          "output_type": "execute_result",
          "data": {
            "text/plain": [
              "LogisticRegression(random_state=0)"
            ]
          },
          "metadata": {},
          "execution_count": 39
        }
      ]
    },
    {
      "cell_type": "code",
      "source": [
        "test_X_feature = X[0,] # first row all features\n",
        "test_X_feature_22 =  X[20,]\n",
        "test_X_feature_22\n",
        "print(lr.predict(sc.transform([test_X_feature_22])))"
      ],
      "metadata": {
        "colab": {
          "base_uri": "https://localhost:8080/"
        },
        "id": "k8relMS9GeHs",
        "outputId": "fc3f94ef-1907-4f94-9b52-bf1cf8fcc06d"
      },
      "execution_count": 51,
      "outputs": [
        {
          "output_type": "stream",
          "name": "stdout",
          "text": [
            "['B']\n"
          ]
        }
      ]
    },
    {
      "cell_type": "markdown",
      "source": [
        "# Predict test set"
      ],
      "metadata": {
        "id": "ro88GAdzH2dL"
      }
    },
    {
      "cell_type": "code",
      "source": [
        "import numpy as np\n",
        "y_pred = lr.predict(X_test)\n",
        "print(np.concatenate((y_pred.reshape(len(y_pred),1), y_test.reshape(len(y_test),1)),1)) # 0 % error "
      ],
      "metadata": {
        "id": "wqijEgF6H1zK"
      },
      "execution_count": null,
      "outputs": []
    },
    {
      "cell_type": "markdown",
      "source": [
        "# Confusion Matrix"
      ],
      "metadata": {
        "id": "ZHirqgh4IWPX"
      }
    },
    {
      "cell_type": "code",
      "source": [
        "from sklearn.metrics import confusion_matrix\n",
        "from sklearn.metrics import accuracy_score\n",
        "cm = confusion_matrix(y_test, y_pred)  #  actual vs predicted outcomes \n",
        "accuracy = accuracy_score(y_test, y_pred)\n",
        "print(cm)\n",
        "print(accuracy)\n",
        "# 4 - inccorect prediction - not malignant, but predicted wrong "
      ],
      "metadata": {
        "colab": {
          "base_uri": "https://localhost:8080/"
        },
        "id": "NouLvL4OIT-r",
        "outputId": "c6e8b00c-03a7-4088-fe55-80ec9ec30d8e"
      },
      "execution_count": 54,
      "outputs": [
        {
          "output_type": "stream",
          "name": "stdout",
          "text": [
            "[[72  0]\n",
            " [ 4 38]]\n",
            "0.9649122807017544\n"
          ]
        }
      ]
    },
    {
      "cell_type": "markdown",
      "source": [
        "# Visualize training set results "
      ],
      "metadata": {
        "id": "lXvzoKsrIs_2"
      }
    },
    {
      "cell_type": "code",
      "source": [
        ""
      ],
      "metadata": {
        "id": "Lkwu2dACIwv8"
      },
      "execution_count": null,
      "outputs": []
    },
    {
      "cell_type": "markdown",
      "source": [
        "# Improvement "
      ],
      "metadata": {
        "id": "YudgRvpZKvqM"
      }
    }
  ]
}